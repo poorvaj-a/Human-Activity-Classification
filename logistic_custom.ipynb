{
 "cells": [
  {
   "cell_type": "code",
   "execution_count": 7,
   "metadata": {},
   "outputs": [],
   "source": [
    "import numpy as np\n",
    "import pandas as pd\n",
    "from sklearn.model_selection import train_test_split\n",
    "import matplotlib.pyplot as plt\n",
    "from scipy.special import softmax\n",
    "from data import getdata"
   ]
  },
  {
   "cell_type": "code",
   "execution_count": 8,
   "metadata": {},
   "outputs": [],
   "source": [
    "class logistic_class:\n",
    "    \n",
    "    def fit(self, x, y, c = 0.01):\n",
    "\n",
    "        # finding number of classes \n",
    "        y = y.reshape(-1, 1)\n",
    "        number_of_classes = int(np.amax(y, axis = 0)[0])\n",
    "\n",
    "        # finding onehot vector of y_train\n",
    "        y_onehot = []\n",
    "        for i in y:\n",
    "            y_onehot_i = [0] * (number_of_classes + 1)\n",
    "            y_onehot_i[int(i[0])] = 1\n",
    "            y_onehot.append(y_onehot_i)\n",
    "        y_onehot = np.array(y_onehot)\n",
    "\n",
    "        #finding weights using gradient descent method\n",
    "        iterations = 1000\n",
    "        alpha = 0.1\n",
    "        cst = []\n",
    "        it = []\n",
    "        self.W = np.zeros((x.shape[1], y_onehot.shape[1]))\n",
    "        for i in range(iterations):\n",
    "            Z = -np.dot(x, self.W)\n",
    "            A = softmax(Z, axis = 1)\n",
    "            # loss = 1/(1 / x.shape[0]) * (np.trace(np.dot(np.dot(x , self.W), y_onehot.T))) + np.sum(np.log(np.sum(np.exp(Z), axis=1)))\n",
    "            # print(loss)\n",
    "            # # applying softmax\n",
    "            # A = np.exp(Z)/sum(np.exp(Z), axis=1)\n",
    "            self.W = self.W - alpha * ((1 / x.shape[0])*(np.dot(x.T, (y_onehot - A))) + 2 * c * self.W)\n",
    "            # it.append(i)\n",
    "            # cst.append(cost)\n",
    "\n",
    "        # returning weights\n",
    "        return self.W\n",
    "\n",
    "    def predict(self, x):\n",
    "        Z = -np.dot(x, self.W)\n",
    "        A = softmax(Z, axis = 1)\n",
    "        y_pred = np.argmax(A, axis = 1)\n",
    "        return y_pred\n",
    "\n",
    "    def accuracy(self, x, y_test):\n",
    "        Z = -np.dot(x, self.W)\n",
    "        A = softmax(Z, axis = 1)\n",
    "        y_pred = np.argmax(A, axis = 1)\n",
    "        ans = 0\n",
    "        for i in range(len(y_pred)):\n",
    "            if(y_pred[i] == y_test[i]):\n",
    "                ans += 1\n",
    "        ans = ans / len(y_pred)\n",
    "        return ans * 100\n"
   ]
  },
  {
   "cell_type": "code",
   "execution_count": 9,
   "metadata": {},
   "outputs": [],
   "source": [
    "# iris = pd.read_csv('Iris.csv')\n",
    "# iris.drop(columns=\"Id\",inplace=True)\n",
    "# X=iris.iloc[:,0:4].values\n",
    "# y=iris.iloc[:,4].values\n",
    "# x_train, x_test, y_train, y_test = train_test_split(X,y,test_size=0.2)"
   ]
  },
  {
   "cell_type": "code",
   "execution_count": 10,
   "metadata": {},
   "outputs": [
    {
     "name": "stdout",
     "output_type": "stream",
     "text": [
      "(247208, 54)\n"
     ]
    }
   ],
   "source": [
    "data, data_hand, data_chest, data_ankle = getdata()\n",
    "x = data[:,1:]\n",
    "y = data[:,0]\n",
    "x_train, x_test, y_train, y_test = train_test_split(x, y, test_size=0.2)"
   ]
  },
  {
   "cell_type": "code",
   "execution_count": 11,
   "metadata": {},
   "outputs": [
    {
     "name": "stdout",
     "output_type": "stream",
     "text": [
      "58.07621127999757\n"
     ]
    }
   ],
   "source": [
    "sample = logistic_class()\n",
    "sample.fit(x_train, y_train, 0.01)\n",
    "accuracy = sample.accuracy(x_train, y_train)\n",
    "print(accuracy)"
   ]
  }
 ],
 "metadata": {
  "kernelspec": {
   "display_name": "Python 3.9.12 ('base')",
   "language": "python",
   "name": "python3"
  },
  "language_info": {
   "codemirror_mode": {
    "name": "ipython",
    "version": 3
   },
   "file_extension": ".py",
   "mimetype": "text/x-python",
   "name": "python",
   "nbconvert_exporter": "python",
   "pygments_lexer": "ipython3",
   "version": "3.9.12"
  },
  "orig_nbformat": 4,
  "vscode": {
   "interpreter": {
    "hash": "4750d72ed7ec1ff4e19417e44ac36e7982326c017f724af47cd5804766b0b9eb"
   }
  }
 },
 "nbformat": 4,
 "nbformat_minor": 2
}
